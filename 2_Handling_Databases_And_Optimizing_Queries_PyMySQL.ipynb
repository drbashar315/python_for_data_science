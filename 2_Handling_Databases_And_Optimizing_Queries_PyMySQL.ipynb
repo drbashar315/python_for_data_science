{
 "cells": [
  {
   "cell_type": "markdown",
   "metadata": {},
   "source": [
    " # Handling MySQL database with efficient time management\n",
    "  \n",
    "PyMySQL is an interface for connecting to a MySQL database server from Python. It implements the Python Database API v2.0 and contains a pure-Python MySQL client library.\n",
    "Read more about this at https://www.tutorialspoint.com/python3/python_database_access.htm"
   ]
  },
  {
   "cell_type": "markdown",
   "metadata": {},
   "source": [
    "## 1. Establishing  Connnection and Cursor"
   ]
  },
  {
   "cell_type": "code",
   "execution_count": null,
   "metadata": {},
   "outputs": [],
   "source": [
    "import pymysql\n",
    "conn = pymysql.connect(host='http://www.host.name OR localhost', \\\n",
    "                       port=3306, \\\n",
    "                       user='username', \\\n",
    "                       passwd='p@ssword', \\\n",
    "                       db='database_name', autocommit=True)\n",
    "cur = conn.cursor(pymysql.cursors.DictCursor)\n",
    "#cur = conn.cursor() # if DictCursor is not required \n",
    "# about cursor: read more here: (https://eric.lubow.org/2010/when-to-use-mysql-cursor-classes-in-python/)"
   ]
  },
  {
   "cell_type": "markdown",
   "metadata": {},
   "source": [
    "## 2. Some example commands"
   ]
  },
  {
   "cell_type": "markdown",
   "metadata": {},
   "source": [
    "### A. CREATE TABLE"
   ]
  },
  {
   "cell_type": "code",
   "execution_count": null,
   "metadata": {},
   "outputs": [],
   "source": [
    "# Example code for creating a table:\n",
    "\n",
    "cur.execute('''\n",
    "\n",
    "CREATE TABLE IF NOT EXISTS `pvsubset` (\n",
    "  `ticket_id` int(5) NOT NULL AUTO_INCREMENT,\n",
    "  `summons_number` varchar(10) NOT NULL,\n",
    "  `plate_id` varchar(10) NOT NULL,\n",
    "  `registration_state` varchar(2) NOT NULL,\n",
    "  `issue_date` date NOT NULL,\n",
    "  `violation_code` varchar(2) NOT NULL,\n",
    "  `vehicle_body_type` varchar(10) NOT NULL,\n",
    "  `vehicle_make` varchar(10) NOT NULL,\n",
    "  `vehicle_expiration_date` date NOT NULL,\n",
    "  `house_number` varchar(20) NOT NULL,\n",
    "  `street_name` varchar(100) NOT NULL,\n",
    "  `vehicle_color` varchar(20) NOT NULL,\n",
    "  `vehicle_year` varchar(4) NOT NULL,\n",
    "   PRIMARY KEY (`ticket_id`)\n",
    ") ENGINE=MyISAM DEFAULT CHARSET=latin1 ;\n",
    "''')"
   ]
  },
  {
   "cell_type": "markdown",
   "metadata": {},
   "source": [
    "### B. SELECT FROM table"
   ]
  },
  {
   "cell_type": "code",
   "execution_count": null,
   "metadata": {},
   "outputs": [],
   "source": [
    "# Example of fetching the result of a SELECT command\n",
    "# for loop is used here to limit the print output size\n",
    "\n",
    "cur.execute(\"SELECT * FROM CoreFact \")\n",
    "\n",
    "myresult = cur.fetchall()\n",
    "for x in myresult:\n",
    "    print(x)\n",
    "    #break"
   ]
  },
  {
   "attachments": {},
   "cell_type": "markdown",
   "metadata": {},
   "source": [
    "## 3. Example of an INSERT script: Better efficiency through \"Query grouping\"\n",
    "\n",
    "Here is an example of query grouping (sending queries in a specified block size) for inserting large number of rows into a database table.\n",
    "\n",
    "The timimg is monitored using time.time() functions within the script."
   ]
  },
  {
   "cell_type": "code",
   "execution_count": null,
   "metadata": {},
   "outputs": [],
   "source": [
    "import pymysql,csv,time\n",
    "sql = '''\n",
    "INSERT INTO `pvsubset2`\n",
    "(\n",
    "`summons_number`,`plate_id`, `registration_state`,`issue_date`,`violation_code`,\n",
    "`vehicle_body_type`,`vehicle_make`,`vehicle_expiration_date`,`house_number`,`street_name`,`vehicle_color`, \n",
    "`vehicle_year`\n",
    ")\n",
    " VALUES (%s,%s,%s,%s,%s,%s,%s,%s,%s,%s,%s,%s);\n",
    " ''' \n",
    "\n",
    "tokens =[]\n",
    "n= 0 \n",
    "i=0\n",
    "blocksizes = [2500] # The size is taken somewhat arbitrarily. Check the next section about optimizing this.\n",
    "\n",
    "\n",
    "\n",
    "with open('pvsubset.csv') as f:\n",
    "    data = [{k: str(v) for k, v in row.items()}\n",
    "        for row in csv.DictReader(f, skipinitialspace=True)]\n",
    "for bs in blocksizes:\n",
    "    start = time.time()\n",
    "    \n",
    "    for line in data:\n",
    "        tokens.append((line[\"Summons Number\"],\n",
    "                  line[\"Plate ID\"],\n",
    "                  line[\"Registration State\"],\n",
    "                  line[\"Issue Date\"],\n",
    "                  line[\"Violation Code\"],\n",
    "                  line[\"Vehicle Body Type\"],\n",
    "                  line[\"Vehicle Make\"],\n",
    "                  line[\"Vehicle Expiration Date\"],\n",
    "                  line[\"House Number\"],\n",
    "                  line[\"Street Name\"],\n",
    "                  line[\"Vehicle Color\"],\n",
    "                  line[\"Vehicle Year\"]))\n",
    "        if i % bs == 0:\n",
    "            n+=1\n",
    "            bstart = time.time()\n",
    "            cur.executemany(sql,tokens)\n",
    "            conn.commit()\n",
    "            tokens = []\n",
    "        i+=1\n",
    "    print (\"block size: \" + str(bs) + \" - total time : \" + str(time.time() - start))\n",
    "    if len(tokens) > 0:\n",
    "        cur.executemany(sql,tokens)\n",
    "        conn.commit()\n",
    "    \n",
    "cur.close()"
   ]
  },
  {
   "cell_type": "markdown",
   "metadata": {},
   "source": [
    "## 4. Date fields modification\n",
    "\n",
    "In the previous INSERT script, some data are truncted by MySQL (for example: \"1265, \"Data truncated for column 'vehicle_expiration_date' \") due to errors in some of the date fields of the source (pvsubset.csv).\n",
    "\n",
    "To get rid of those errors, the date fields are manipulated using the datetime module of python."
   ]
  },
  {
   "cell_type": "code",
   "execution_count": 10,
   "metadata": {},
   "outputs": [
    {
     "name": "stdout",
     "output_type": "stream",
     "text": [
      "block size: 4700 - total time : 16.09080457687378\n"
     ]
    }
   ],
   "source": [
    "import datetime\n",
    "sql = '''\n",
    "INSERT INTO `pvsubset`\n",
    "(\n",
    "`summons_number`,`plate_id`, `registration_state`,`issue_date`,`violation_code`,\n",
    "`vehicle_body_type`,`vehicle_make`,`vehicle_expiration_date`,`house_number`,`street_name`,`vehicle_color`, \n",
    "`vehicle_year`\n",
    ")\n",
    " VALUES (%s,%s,%s,%s,%s,%s,%s,%s,%s,%s,%s,%s);\n",
    " ''' \n",
    "\n",
    "tokens =[]\n",
    "n= 0 \n",
    "i=0\n",
    "blocksizes = [4700]\n",
    "\n",
    "\n",
    "with open('pvsubset.csv') as f:\n",
    "    data = [{k: str(v) for k, v in row.items()}\n",
    "        for row in csv.DictReader(f, skipinitialspace=True)]\n",
    "\n",
    "for bs in blocksizes:\n",
    "    start = time.time()\n",
    "\n",
    "\n",
    "    for line in data:\n",
    "        datetime_str1 = line[\"Issue Date\"]\n",
    "        datetime_obj1 = datetime.datetime.strptime(datetime_str1, '%m/%d/%Y')\n",
    "        new_datetime_str1 = datetime_obj1.strftime(\"%Y-%m-%d\") # This is to maintain consistancy in the datetime format\n",
    "\n",
    "        try:\n",
    "            datetime_str2 = line[\"Vehicle Expiration Date\"]\n",
    "            datetime_obj2 = datetime.datetime.strptime(datetime_str2, '%Y%m%d')\n",
    "            new_datetime_str2 = datetime_obj2.strftime(\"%Y-%m-%d\") # This is to maintain consistancy in the datetime format\n",
    "        except:\n",
    "            new_datetime_str2 = '0000-00-00' # Because many of the date fields are empty or wrong in the source file\n",
    "\n",
    "\n",
    "        tokens.append((line[\"Summons Number\"],\n",
    "                  line[\"Plate ID\"],\n",
    "                  line[\"Registration State\"],\n",
    "                  new_datetime_str1,\n",
    "                  line[\"Violation Code\"],\n",
    "                  line[\"Vehicle Body Type\"],\n",
    "                  line[\"Vehicle Make\"],\n",
    "                  new_datetime_str2,\n",
    "                  line[\"House Number\"],\n",
    "                  line[\"Street Name\"],\n",
    "                  line[\"Vehicle Color\"],\n",
    "                  line[\"Vehicle Year\"]))\n",
    "        if i % bs == 0:\n",
    "            n+=1\n",
    "            bstart = time.time()\n",
    "            cur.executemany(sql,tokens)\n",
    "            conn.commit()\n",
    "            tokens = []\n",
    "        i+=1\n",
    "    print (\"block size: \" + str(bs) + \" - total time : \" + str(time.time() - start))\n",
    "    if len(tokens) > 0:\n",
    "        cur.executemany(sql,tokens)\n",
    "        conn.commit()\n",
    "    \n",
    "cur.close()"
   ]
  },
  {
   "cell_type": "markdown",
   "metadata": {},
   "source": [
    "## 5. Even better time efficiency: Finding the optimum block size\n",
    "\n",
    "In the following modification of the previous code different block sizes (ranginging between 500 and 5000) were tested and timed. Thus, instead of picking an arbitrary block size, we can find the optimum one."
   ]
  },
  {
   "cell_type": "code",
   "execution_count": 7,
   "metadata": {},
   "outputs": [
    {
     "name": "stdout",
     "output_type": "stream",
     "text": [
      "block size: 50 - total time : 104.20536756515503\n",
      "block size: 100 - total time : 62.32541227340698\n",
      "block size: 200 - total time : 38.04236841201782\n",
      "block size: 500 - total time : 27.973157167434692\n",
      "block size: 1000 - total time : 23.740208387374878\n",
      "block size: 1500 - total time : 21.964792251586914\n",
      "block size: 2000 - total time : 21.535418272018433\n",
      "block size: 2500 - total time : 21.10867166519165\n",
      "block size: 3000 - total time : 22.265390157699585\n",
      "block size: 3500 - total time : 23.39005947113037\n",
      "block size: 4000 - total time : 18.887829780578613\n",
      "block size: 4500 - total time : 16.934757232666016\n",
      "block size: 4600 - total time : 16.862687826156616\n",
      "block size: 4700 - total time : 16.431373596191406\n",
      "block size: 5000 - total time : 17.56948709487915\n",
      "block size: 5500 - total time : 16.624005556106567\n",
      "block size: 5600 - total time : 16.666142225265503\n",
      "block size: 5700 - total time : 15.950990676879883\n",
      "block size: 6000 - total time : 16.418246269226074\n",
      "block size: 6500 - total time : 16.66899800300598\n"
     ]
    }
   ],
   "source": [
    "sql = '''\n",
    "INSERT INTO `pvsubset`\n",
    "(\n",
    "`summons_number`,`plate_id`, `registration_state`,`issue_date`,`violation_code`,\n",
    "`vehicle_body_type`,`vehicle_make`,`vehicle_expiration_date`,`house_number`,`street_name`,`vehicle_color`, \n",
    "`vehicle_year`\n",
    ")\n",
    " VALUES (%s,%s,%s,%s,%s,%s,%s,%s,%s,%s,%s,%s);\n",
    " ''' \n",
    "\n",
    "tokens =[]\n",
    "n= 0 \n",
    "i=0\n",
    "blocksizes = [50, 100, 200,500,1000,1500,2000,2500,3000,3500,4000,4500,4600, 4700, 5000,5500, 5600, 5700,6000,6500]\n",
    "\n",
    "\n",
    "with open('pvsubset.csv') as f:\n",
    "    data = [{k: str(v) for k, v in row.items()}\n",
    "        for row in csv.DictReader(f, skipinitialspace=True)]\n",
    "\n",
    "for bs in blocksizes:\n",
    "    start = time.time()\n",
    "\n",
    "\n",
    "    for line in data:\n",
    "        datetime_str1 = line[\"Issue Date\"] \n",
    "        datetime_obj1 = datetime.datetime.strptime(datetime_str1, '%m/%d/%Y')\n",
    "        new_datetime_str1 = datetime_obj1.strftime(\"%Y-%m-%d\") \n",
    "\n",
    "        try:\n",
    "            datetime_str2 = line[\"Vehicle Expiration Date\"]\n",
    "            datetime_obj2 = datetime.datetime.strptime(datetime_str2, '%Y%m%d')\n",
    "            new_datetime_str2 = datetime_obj2.strftime(\"%Y-%m-%d\")  \n",
    "        except:\n",
    "            new_datetime_str2 = '0000-00-00' \n",
    "\n",
    "\n",
    "        tokens.append((line[\"Summons Number\"],\n",
    "                  line[\"Plate ID\"],\n",
    "                  line[\"Registration State\"],\n",
    "                  new_datetime_str1,\n",
    "                  line[\"Violation Code\"],\n",
    "                  line[\"Vehicle Body Type\"],\n",
    "                  line[\"Vehicle Make\"],\n",
    "                  new_datetime_str2,\n",
    "                  line[\"House Number\"],\n",
    "                  line[\"Street Name\"],\n",
    "                  line[\"Vehicle Color\"],\n",
    "                  line[\"Vehicle Year\"]))\n",
    "        if i % bs == 0 and i != 0:\n",
    "            n+=1\n",
    "            #print(tokens)\n",
    "            bstart = time.time()\n",
    "            cur.executemany(sql,tokens)\n",
    "            conn.commit()\n",
    "            #print \"Block \" + str(n) +\" \"+ str(time.time() - bstart)\n",
    "            tokens = []\n",
    "        i+=1\n",
    "    print (\"block size: \" + str(bs) + \" - total time : \" + str(time.time() - start))\n",
    "    if len(tokens) > 0:\n",
    "        cur.executemany(sql,tokens)\n",
    "        conn.commit()\n",
    "    \n",
    "cur.close()\n",
    "conn.close()"
   ]
  },
  {
   "cell_type": "code",
   "execution_count": null,
   "metadata": {},
   "outputs": [],
   "source": []
  }
 ],
 "metadata": {
  "kernelspec": {
   "display_name": "Python 3",
   "language": "python",
   "name": "python3"
  },
  "language_info": {
   "codemirror_mode": {
    "name": "ipython",
    "version": 3
   },
   "file_extension": ".py",
   "mimetype": "text/x-python",
   "name": "python",
   "nbconvert_exporter": "python",
   "pygments_lexer": "ipython3",
   "version": "3.7.1"
  }
 },
 "nbformat": 4,
 "nbformat_minor": 2
}
